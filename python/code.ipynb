{
 "cells": [
  {
   "cell_type": "code",
   "execution_count": 2,
   "metadata": {},
   "outputs": [
    {
     "name": "stdout",
     "output_type": "stream",
     "text": [
      "73\n"
     ]
    }
   ],
   "source": [
    "l=[i for i in range(1,101)]\n",
    "while len(l)!=1:\n",
    "    c=0\n",
    "    for i in range(1,len(l)+1,2):\n",
    "        if i!=len(l):\n",
    "            l[i]=0\n",
    "            if i==len(l)-2:\n",
    "                c=1\n",
    "    for i in l:\n",
    "        if i==0:\n",
    "            l.remove(i)\n",
    "    if c==1:        \n",
    "        l.pop(0)        \n",
    "print(l[0])"
   ]
  },
  {
   "cell_type": "code",
   "execution_count": 9,
   "metadata": {},
   "outputs": [
    {
     "name": "stdout",
     "output_type": "stream",
     "text": [
      "ashfalls\thallahs\tashfall\tdaggas\n",
      "skalds\thallah\tsalads\tflasks\n",
      "flash\tskald\tkakas\tslags\n",
      "jaggs\tgalas\thadal\tslash\n",
      "shahs\tgaffs\talgal\tdagga\n",
      "flask\tdahls\tdaffs\tlakhs\n",
      "shags\thalls\tglass\tsagas\n",
      "kasha\tsalad\tgalls\tshall\n",
      "dadas\tfalls\tsalsa\tshads\n",
      "flags\talfas\tsaga\thalf\n",
      "sags\tfads\tdhal\tglad\n",
      "lash\tkaka\tlads\tfall\n",
      "hall\tgads\talfa\tadds\n",
      "gags\tgaga\thash\tdahl\n",
      "agha\thajj\tlass\tgaff\n",
      "alga\tdahs\tasks\tgals\n",
      "lags\tjagg\talas\tjags\n",
      "flak\tdaff\tlakh\tdash\n",
      "gala\n"
     ]
    }
   ],
   "source": [
    "l=\"\"\"ashfalls\thallahs\tashfall\tdaggas\n",
    "skalds\thallah\tsalads\tflasks\n",
    "flash\tskald\tkakas\tslags\n",
    "jaggs\tgalas\thadal\tslash\n",
    "shahs\tgaffs\talgal\tdagga\n",
    "flask\tdahls\tdaffs\tlakhs\n",
    "shags\thalls\tglass\tsagas\n",
    "kasha\tsalad\tgalls\tshall\n",
    "dadas\tfalls\tsalsa\tshads\n",
    "flags\talfas\tsaga\thalf\n",
    "sags\tfads\tdhal\tglad\n",
    "lash\tkaka\tlads\tfall\n",
    "hall\tgads\talfa\tadds\n",
    "gags\tgaga\thash\tdahl\n",
    "agha\thajj\tlass\tgaff\n",
    "alga\tdahs\tasks\tgals\n",
    "lags\tjagg\talas\tjags\n",
    "flak\tdaff\tlakh\tdash\n",
    "gala\"\"\"\n",
    "print(l.replace(\"  \",\"#\"))\n"
   ]
  },
  {
   "cell_type": "code",
   "execution_count": 8,
   "metadata": {},
   "outputs": [
    {
     "name": "stdout",
     "output_type": "stream",
     "text": [
      "super#man\n"
     ]
    }
   ],
   "source": []
  },
  {
   "cell_type": "code",
   "execution_count": null,
   "metadata": {},
   "outputs": [],
   "source": []
  }
 ],
 "metadata": {
  "kernelspec": {
   "display_name": "Python 3.10.2 64-bit",
   "language": "python",
   "name": "python3"
  },
  "language_info": {
   "codemirror_mode": {
    "name": "ipython",
    "version": 3
   },
   "file_extension": ".py",
   "mimetype": "text/x-python",
   "name": "python",
   "nbconvert_exporter": "python",
   "pygments_lexer": "ipython3",
   "version": "3.10.2"
  },
  "orig_nbformat": 4,
  "vscode": {
   "interpreter": {
    "hash": "fbe58ca63fe33f9eeae9e71d10368d2b4a57f2b1b395836210cc60d362c66949"
   }
  }
 },
 "nbformat": 4,
 "nbformat_minor": 2
}
